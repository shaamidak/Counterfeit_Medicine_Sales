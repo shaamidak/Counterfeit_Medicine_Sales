{
 "cells": [
  {
   "cell_type": "markdown",
   "id": "senior-shift",
   "metadata": {},
   "source": [
    "# Imports\n",
    "- Python version: '3.8.5'\n",
    "- numpy version: '1.19.2'\n",
    "- pandas version: '1.2.3'\n",
    "- tensorflow version: '2.3.0'"
   ]
  },
  {
   "cell_type": "code",
   "execution_count": 1,
   "id": "express-personal",
   "metadata": {},
   "outputs": [],
   "source": [
    "import numpy as np\n",
    "import pandas as pd\n",
    "\n",
    "from tensorflow.keras.models import Model,Sequential\n",
    "from tensorflow.keras.layers import Dense,Input\n",
    "from tensorflow.keras.callbacks import Callback"
   ]
  },
  {
   "cell_type": "markdown",
   "id": "refined-battlefield",
   "metadata": {},
   "source": [
    "# Useful Functions"
   ]
  },
  {
   "cell_type": "markdown",
   "id": "spanish-comedy",
   "metadata": {},
   "source": [
    "- Used for auto-encoding the dummies to reduce the no of dimensions\n",
    "- Used tensorflow to implement this deeplearning technique\n",
    "- The callback is required to automatically stop the training once accuracy = 1 is reached"
   ]
  },
  {
   "cell_type": "code",
   "execution_count": 2,
   "id": "golden-planner",
   "metadata": {},
   "outputs": [],
   "source": [
    "class My_callback(Callback):\n",
    "    def on_epoch_end(self, epoch, logs = {}):\n",
    "        if logs.get(\"accuracy\") == 1.0:\n",
    "            print(\"\\nReached Accuracy = 1\")\n",
    "            print(\"Hence training stopped!\\n\")\n",
    "            self.model.stop_training = True\n",
    "\n",
    "my_callback = My_callback()"
   ]
  },
  {
   "cell_type": "code",
   "execution_count": 3,
   "id": "decent-mexican",
   "metadata": {},
   "outputs": [],
   "source": [
    "def auto_emb(temp, emb_dim, colname, epochs = 100):\n",
    "    dense_dim = (temp.shape[1] - emb_dim)//2\n",
    "    inputs=Input(shape=(temp.shape[1],))\n",
    "    dense1=Dense(dense_dim,activation='relu')(inputs)\n",
    "    embedded_output=Dense(emb_dim)(dense1)\n",
    "    outputs=Dense(temp.shape[1],activation='softmax')(embedded_output)\n",
    "    model=Model(inputs=inputs,outputs=outputs)\n",
    "    embedder=Model(inputs=inputs,outputs=embedded_output)\n",
    "    \n",
    "    model.compile(optimizer='adam',loss='categorical_crossentropy',metrics=['accuracy'])\n",
    "    model.fit(temp,temp,epochs=epochs ,batch_size=100, callbacks = [my_callback])\n",
    "    \n",
    "    cols = [colname+\"_emb\"+str(i+1) for i in range(emb_dim)]\n",
    "    \n",
    "    return(pd.DataFrame(embedder.predict(temp),columns= cols))"
   ]
  },
  {
   "cell_type": "markdown",
   "id": "official-suggestion",
   "metadata": {},
   "source": [
    "- Used to get dummies\n",
    "- this is used over pandas.get_dummies to drop columns of our choice"
   ]
  },
  {
   "cell_type": "code",
   "execution_count": 4,
   "id": "whole-punishment",
   "metadata": {},
   "outputs": [],
   "source": [
    "def getting_dummies(dat,var,freq = 50, drp_flg = True, drp = []):\n",
    "\tdata= dat[dat.columns]\n",
    "\ttab = data[var].value_counts(ascending = False)\n",
    "\ttab = tab.index[tab>=freq][:-1].tolist() if drp_flg else tab.index[tab>=freq].tolist()\n",
    "\tfor i in drp: tab.remove(i)\n",
    "\tprint(\"\\n\\n--------------------\\n--------------------\\nDummies for\",var)\n",
    "\tprint(\"no of new columns from\",var,\"is\",len(tab))\n",
    "\tprint(tab)\n",
    "\tto_return_df = pd.DataFrame({\"delthis\":np.arange(data.shape[0])})#new dummies dataframe\n",
    "\tfor i in tab:\n",
    "\t\tj = str(i)\n",
    "\t\tj = j.replace(\" \",\"_\")\n",
    "\t\tnamee = var+\"_\"+j\n",
    "\t\tto_return_df[namee]=(data[var]==i).astype(int)\n",
    "\tto_return_df.drop([\"delthis\"],axis=1,inplace=True)\n",
    "\treturn to_return_df"
   ]
  },
  {
   "cell_type": "markdown",
   "id": "proved-sleeping",
   "metadata": {},
   "source": [
    "# loading the data"
   ]
  },
  {
   "cell_type": "code",
   "execution_count": 5,
   "id": "female-medicine",
   "metadata": {},
   "outputs": [],
   "source": [
    "cct = pd.read_csv(r\"data/counterfeit_train.csv\")"
   ]
  },
  {
   "cell_type": "code",
   "execution_count": 6,
   "id": "revised-hygiene",
   "metadata": {
    "scrolled": true
   },
   "outputs": [
    {
     "data": {
      "text/html": [
       "<div>\n",
       "<style scoped>\n",
       "    .dataframe tbody tr th:only-of-type {\n",
       "        vertical-align: middle;\n",
       "    }\n",
       "\n",
       "    .dataframe tbody tr th {\n",
       "        vertical-align: top;\n",
       "    }\n",
       "\n",
       "    .dataframe thead th {\n",
       "        text-align: right;\n",
       "    }\n",
       "</style>\n",
       "<table border=\"1\" class=\"dataframe\">\n",
       "  <thead>\n",
       "    <tr style=\"text-align: right;\">\n",
       "      <th></th>\n",
       "      <th>Medicine_ID</th>\n",
       "      <th>Counterfeit_Weight</th>\n",
       "      <th>DistArea_ID</th>\n",
       "      <th>Active_Since</th>\n",
       "      <th>Medicine_MRP</th>\n",
       "      <th>Medicine_Type</th>\n",
       "      <th>SidEffect_Level</th>\n",
       "      <th>Availability_rating</th>\n",
       "      <th>Area_Type</th>\n",
       "      <th>Area_City_Type</th>\n",
       "      <th>Area_dist_level</th>\n",
       "      <th>Counterfeit_Sales</th>\n",
       "    </tr>\n",
       "  </thead>\n",
       "  <tbody>\n",
       "    <tr>\n",
       "      <th>0</th>\n",
       "      <td>RRA15</td>\n",
       "      <td>13.100</td>\n",
       "      <td>Area046</td>\n",
       "      <td>1995</td>\n",
       "      <td>160.2366</td>\n",
       "      <td>Antimalarial</td>\n",
       "      <td>critical</td>\n",
       "      <td>0.070422</td>\n",
       "      <td>DownTown</td>\n",
       "      <td>Tier 1</td>\n",
       "      <td>Small</td>\n",
       "      <td>1775.5026</td>\n",
       "    </tr>\n",
       "    <tr>\n",
       "      <th>1</th>\n",
       "      <td>YVV26</td>\n",
       "      <td>NaN</td>\n",
       "      <td>Area027</td>\n",
       "      <td>1983</td>\n",
       "      <td>110.4384</td>\n",
       "      <td>Mstablizers</td>\n",
       "      <td>mild</td>\n",
       "      <td>0.013000</td>\n",
       "      <td>CityLimits</td>\n",
       "      <td>Tier 3</td>\n",
       "      <td>Medium</td>\n",
       "      <td>3069.1520</td>\n",
       "    </tr>\n",
       "    <tr>\n",
       "      <th>2</th>\n",
       "      <td>LJC15</td>\n",
       "      <td>9.025</td>\n",
       "      <td>Area046</td>\n",
       "      <td>1995</td>\n",
       "      <td>259.4092</td>\n",
       "      <td>Cardiac</td>\n",
       "      <td>mild</td>\n",
       "      <td>0.060783</td>\n",
       "      <td>DownTown</td>\n",
       "      <td>Tier 1</td>\n",
       "      <td>Small</td>\n",
       "      <td>2603.0920</td>\n",
       "    </tr>\n",
       "    <tr>\n",
       "      <th>3</th>\n",
       "      <td>GWC40</td>\n",
       "      <td>11.800</td>\n",
       "      <td>Area046</td>\n",
       "      <td>1995</td>\n",
       "      <td>99.9830</td>\n",
       "      <td>OralContraceptives</td>\n",
       "      <td>mild</td>\n",
       "      <td>0.065555</td>\n",
       "      <td>DownTown</td>\n",
       "      <td>Tier 1</td>\n",
       "      <td>Small</td>\n",
       "      <td>1101.7130</td>\n",
       "    </tr>\n",
       "    <tr>\n",
       "      <th>4</th>\n",
       "      <td>QMN13</td>\n",
       "      <td>NaN</td>\n",
       "      <td>Area019</td>\n",
       "      <td>1983</td>\n",
       "      <td>56.4402</td>\n",
       "      <td>Hreplacements</td>\n",
       "      <td>critical</td>\n",
       "      <td>0.248859</td>\n",
       "      <td>MidTownResidential</td>\n",
       "      <td>Tier 1</td>\n",
       "      <td>Small</td>\n",
       "      <td>158.9402</td>\n",
       "    </tr>\n",
       "    <tr>\n",
       "      <th>...</th>\n",
       "      <td>...</td>\n",
       "      <td>...</td>\n",
       "      <td>...</td>\n",
       "      <td>...</td>\n",
       "      <td>...</td>\n",
       "      <td>...</td>\n",
       "      <td>...</td>\n",
       "      <td>...</td>\n",
       "      <td>...</td>\n",
       "      <td>...</td>\n",
       "      <td>...</td>\n",
       "      <td>...</td>\n",
       "    </tr>\n",
       "    <tr>\n",
       "      <th>6813</th>\n",
       "      <td>OYN80</td>\n",
       "      <td>8.535</td>\n",
       "      <td>Area046</td>\n",
       "      <td>1995</td>\n",
       "      <td>204.1452</td>\n",
       "      <td>Hreplacements</td>\n",
       "      <td>mild</td>\n",
       "      <td>0.112963</td>\n",
       "      <td>DownTown</td>\n",
       "      <td>Tier 1</td>\n",
       "      <td>Small</td>\n",
       "      <td>2070.4520</td>\n",
       "    </tr>\n",
       "    <tr>\n",
       "      <th>6814</th>\n",
       "      <td>ACW12</td>\n",
       "      <td>20.650</td>\n",
       "      <td>Area046</td>\n",
       "      <td>1995</td>\n",
       "      <td>235.1088</td>\n",
       "      <td>Hreplacements</td>\n",
       "      <td>mild</td>\n",
       "      <td>0.131103</td>\n",
       "      <td>DownTown</td>\n",
       "      <td>Tier 1</td>\n",
       "      <td>Small</td>\n",
       "      <td>2126.3792</td>\n",
       "    </tr>\n",
       "    <tr>\n",
       "      <th>6815</th>\n",
       "      <td>OPM10</td>\n",
       "      <td>20.000</td>\n",
       "      <td>Area017</td>\n",
       "      <td>2005</td>\n",
       "      <td>193.6292</td>\n",
       "      <td>Antimalarial</td>\n",
       "      <td>critical</td>\n",
       "      <td>0.105096</td>\n",
       "      <td>DownTown</td>\n",
       "      <td>Tier 2</td>\n",
       "      <td>Unknown</td>\n",
       "      <td>2119.7212</td>\n",
       "    </tr>\n",
       "    <tr>\n",
       "      <th>6816</th>\n",
       "      <td>SLY12</td>\n",
       "      <td>10.180</td>\n",
       "      <td>Area045</td>\n",
       "      <td>2000</td>\n",
       "      <td>162.8682</td>\n",
       "      <td>Statins</td>\n",
       "      <td>mild</td>\n",
       "      <td>0.099957</td>\n",
       "      <td>DownTown</td>\n",
       "      <td>Tier 2</td>\n",
       "      <td>Unknown</td>\n",
       "      <td>1485.2138</td>\n",
       "    </tr>\n",
       "    <tr>\n",
       "      <th>6817</th>\n",
       "      <td>ATT10</td>\n",
       "      <td>7.930</td>\n",
       "      <td>Area018</td>\n",
       "      <td>2007</td>\n",
       "      <td>177.5500</td>\n",
       "      <td>Mstablizers</td>\n",
       "      <td>critical</td>\n",
       "      <td>0.117445</td>\n",
       "      <td>Industrial</td>\n",
       "      <td>Tier 3</td>\n",
       "      <td>Medium</td>\n",
       "      <td>1943.9500</td>\n",
       "    </tr>\n",
       "  </tbody>\n",
       "</table>\n",
       "<p>6818 rows × 12 columns</p>\n",
       "</div>"
      ],
      "text/plain": [
       "     Medicine_ID  Counterfeit_Weight DistArea_ID  Active_Since  Medicine_MRP  \\\n",
       "0          RRA15              13.100     Area046          1995      160.2366   \n",
       "1          YVV26                 NaN     Area027          1983      110.4384   \n",
       "2          LJC15               9.025     Area046          1995      259.4092   \n",
       "3          GWC40              11.800     Area046          1995       99.9830   \n",
       "4          QMN13                 NaN     Area019          1983       56.4402   \n",
       "...          ...                 ...         ...           ...           ...   \n",
       "6813       OYN80               8.535     Area046          1995      204.1452   \n",
       "6814       ACW12              20.650     Area046          1995      235.1088   \n",
       "6815       OPM10              20.000     Area017          2005      193.6292   \n",
       "6816       SLY12              10.180     Area045          2000      162.8682   \n",
       "6817       ATT10               7.930     Area018          2007      177.5500   \n",
       "\n",
       "           Medicine_Type SidEffect_Level  Availability_rating  \\\n",
       "0           Antimalarial        critical             0.070422   \n",
       "1            Mstablizers            mild             0.013000   \n",
       "2                Cardiac            mild             0.060783   \n",
       "3     OralContraceptives            mild             0.065555   \n",
       "4          Hreplacements        critical             0.248859   \n",
       "...                  ...             ...                  ...   \n",
       "6813       Hreplacements            mild             0.112963   \n",
       "6814       Hreplacements            mild             0.131103   \n",
       "6815        Antimalarial        critical             0.105096   \n",
       "6816             Statins            mild             0.099957   \n",
       "6817         Mstablizers        critical             0.117445   \n",
       "\n",
       "               Area_Type Area_City_Type Area_dist_level  Counterfeit_Sales  \n",
       "0               DownTown         Tier 1           Small          1775.5026  \n",
       "1             CityLimits         Tier 3          Medium          3069.1520  \n",
       "2               DownTown         Tier 1           Small          2603.0920  \n",
       "3               DownTown         Tier 1           Small          1101.7130  \n",
       "4     MidTownResidential         Tier 1           Small           158.9402  \n",
       "...                  ...            ...             ...                ...  \n",
       "6813            DownTown         Tier 1           Small          2070.4520  \n",
       "6814            DownTown         Tier 1           Small          2126.3792  \n",
       "6815            DownTown         Tier 2         Unknown          2119.7212  \n",
       "6816            DownTown         Tier 2         Unknown          1485.2138  \n",
       "6817          Industrial         Tier 3          Medium          1943.9500  \n",
       "\n",
       "[6818 rows x 12 columns]"
      ]
     },
     "execution_count": 6,
     "metadata": {},
     "output_type": "execute_result"
    }
   ],
   "source": [
    "cct"
   ]
  },
  {
   "cell_type": "markdown",
   "id": "cross-orange",
   "metadata": {},
   "source": [
    "# Handling Categorical Features"
   ]
  },
  {
   "cell_type": "markdown",
   "id": "corporate-hammer",
   "metadata": {},
   "source": [
    "- For 'SidEffect_Level', 'mild' is major class\n",
    "- Hence mild is 'assigned' 1 and 'critical' is assigned 0"
   ]
  },
  {
   "cell_type": "code",
   "execution_count": 7,
   "id": "hourly-stomach",
   "metadata": {},
   "outputs": [],
   "source": [
    "cct[\"SidEffect_Level\"] = (cct[\"SidEffect_Level\"] == \"mild\").astype(int)"
   ]
  },
  {
   "cell_type": "markdown",
   "id": "listed-static",
   "metadata": {},
   "source": [
    "- Make dummies for \"Area_Type\" and drop the category with the lowest frequency"
   ]
  },
  {
   "cell_type": "code",
   "execution_count": 8,
   "id": "apparent-differential",
   "metadata": {},
   "outputs": [
    {
     "name": "stdout",
     "output_type": "stream",
     "text": [
      "\n",
      "\n",
      "--------------------\n",
      "--------------------\n",
      "Dummies for Area_Type\n",
      "no of new columns from Area_Type is 3\n",
      "['DownTown', 'MidTownResidential', 'CityLimits']\n"
     ]
    }
   ],
   "source": [
    "temp1 = getting_dummies(cct, \"Area_Type\", freq = 0)\n",
    "cct = pd.concat([cct, temp1], axis = 1)"
   ]
  },
  {
   "cell_type": "markdown",
   "id": "enabling-dealer",
   "metadata": {},
   "source": [
    "- Make dummies for \"Area_City_Type\" and drop the category with the lowest frequency"
   ]
  },
  {
   "cell_type": "code",
   "execution_count": 9,
   "id": "brazilian-ticket",
   "metadata": {},
   "outputs": [
    {
     "name": "stdout",
     "output_type": "stream",
     "text": [
      "\n",
      "\n",
      "--------------------\n",
      "--------------------\n",
      "Dummies for Area_City_Type\n",
      "no of new columns from Area_City_Type is 2\n",
      "['Tier 3', 'Tier 2']\n"
     ]
    }
   ],
   "source": [
    "temp1 = getting_dummies(cct, \"Area_City_Type\", freq = 0)\n",
    "cct = pd.concat([cct, temp1], axis = 1)"
   ]
  },
  {
   "cell_type": "markdown",
   "id": "drawn-october",
   "metadata": {},
   "source": [
    "- Make dummies for \"Area_dist_level\" and drop the category 'Unknown'"
   ]
  },
  {
   "cell_type": "code",
   "execution_count": 10,
   "id": "personal-cartridge",
   "metadata": {},
   "outputs": [
    {
     "name": "stdout",
     "output_type": "stream",
     "text": [
      "\n",
      "\n",
      "--------------------\n",
      "--------------------\n",
      "Dummies for Area_dist_level\n",
      "no of new columns from Area_dist_level is 3\n",
      "['Medium', 'Small', 'High']\n"
     ]
    }
   ],
   "source": [
    "temp1 = getting_dummies(cct, \"Area_dist_level\", freq = 0, drp_flg = False, drp = [\"Unknown\"])\n",
    "cct = pd.concat([cct, temp1], axis = 1)"
   ]
  },
  {
   "cell_type": "markdown",
   "id": "traditional-foster",
   "metadata": {},
   "source": [
    "- Make dummies for \"Medicine_Type\" without dropping anything\n",
    "- Auto-encode the dummies to reduce their dimensions from 16 to 3 wihtout any loss of information\n",
    "- This is achieved by training the auto-encoder model to get accuracy = 1"
   ]
  },
  {
   "cell_type": "code",
   "execution_count": 11,
   "id": "aware-mexico",
   "metadata": {},
   "outputs": [
    {
     "name": "stdout",
     "output_type": "stream",
     "text": [
      "\n",
      "\n",
      "--------------------\n",
      "--------------------\n",
      "Dummies for Medicine_Type\n",
      "no of new columns from Medicine_Type is 16\n",
      "['Hreplacements', 'Antibiotics', 'Antiseptics', 'OralContraceptives', 'Antipyretics', 'Cardiac', 'Mstablizers', 'Tranquilizers', 'Analgesics', 'Antimalarial', 'Antacids', 'Statins', 'MuscleRelaxants', 'Antifungal', 'Stimulants', 'Antiviral']\n",
      "Epoch 1/100\n",
      "69/69 [==============================] - 0s 797us/step - loss: 2.6926 - accuracy: 0.2719\n",
      "Epoch 2/100\n",
      "69/69 [==============================] - 0s 775us/step - loss: 2.5476 - accuracy: 0.4080\n",
      "Epoch 3/100\n",
      "69/69 [==============================] - 0s 744us/step - loss: 2.3250 - accuracy: 0.4494\n",
      "Epoch 4/100\n",
      "69/69 [==============================] - 0s 753us/step - loss: 2.0376 - accuracy: 0.5700\n",
      "Epoch 5/100\n",
      "69/69 [==============================] - 0s 768us/step - loss: 1.7524 - accuracy: 0.5700\n",
      "Epoch 6/100\n",
      "69/69 [==============================] - 0s 761us/step - loss: 1.4981 - accuracy: 0.5700\n",
      "Epoch 7/100\n",
      "69/69 [==============================] - 0s 739us/step - loss: 1.2860 - accuracy: 0.5700\n",
      "Epoch 8/100\n",
      "69/69 [==============================] - 0s 755us/step - loss: 1.1129 - accuracy: 0.5859\n",
      "Epoch 9/100\n",
      "69/69 [==============================] - 0s 722us/step - loss: 0.9595 - accuracy: 0.6316\n",
      "Epoch 10/100\n",
      "69/69 [==============================] - 0s 724us/step - loss: 0.8051 - accuracy: 0.6511\n",
      "Epoch 11/100\n",
      "69/69 [==============================] - 0s 724us/step - loss: 0.6628 - accuracy: 0.8419\n",
      "Epoch 12/100\n",
      "69/69 [==============================] - 0s 724us/step - loss: 0.5468 - accuracy: 0.8989\n",
      "Epoch 13/100\n",
      "69/69 [==============================] - 0s 739us/step - loss: 0.4517 - accuracy: 0.9253\n",
      "Epoch 14/100\n",
      "69/69 [==============================] - 0s 768us/step - loss: 0.3734 - accuracy: 0.9340\n",
      "Epoch 15/100\n",
      "69/69 [==============================] - 0s 710us/step - loss: 0.3104 - accuracy: 0.9457\n",
      "Epoch 16/100\n",
      "69/69 [==============================] - 0s 710us/step - loss: 0.2613 - accuracy: 0.9544\n",
      "Epoch 17/100\n",
      "69/69 [==============================] - 0s 695us/step - loss: 0.2233 - accuracy: 0.9544\n",
      "Epoch 18/100\n",
      "69/69 [==============================] - 0s 681us/step - loss: 0.1932 - accuracy: 0.9544\n",
      "Epoch 19/100\n",
      "69/69 [==============================] - 0s 681us/step - loss: 0.1688 - accuracy: 0.9544\n",
      "Epoch 20/100\n",
      "69/69 [==============================] - 0s 703us/step - loss: 0.1481 - accuracy: 0.9635\n",
      "Epoch 21/100\n",
      "69/69 [==============================] - 0s 710us/step - loss: 0.1303 - accuracy: 0.9789\n",
      "Epoch 22/100\n",
      "69/69 [==============================] - 0s 695us/step - loss: 0.1145 - accuracy: 0.9789\n",
      "Epoch 23/100\n",
      "69/69 [==============================] - 0s 724us/step - loss: 0.1008 - accuracy: 0.9789\n",
      "Epoch 24/100\n",
      "69/69 [==============================] - 0s 695us/step - loss: 0.0889 - accuracy: 0.9789\n",
      "Epoch 25/100\n",
      "69/69 [==============================] - 0s 710us/step - loss: 0.0782 - accuracy: 0.9789\n",
      "Epoch 26/100\n",
      "69/69 [==============================] - 0s 710us/step - loss: 0.0684 - accuracy: 0.9821\n",
      "Epoch 27/100\n",
      "69/69 [==============================] - 0s 710us/step - loss: 0.0597 - accuracy: 0.9928\n",
      "Epoch 28/100\n",
      "69/69 [==============================] - 0s 695us/step - loss: 0.0519 - accuracy: 0.9928\n",
      "Epoch 29/100\n",
      "69/69 [==============================] - 0s 681us/step - loss: 0.0453 - accuracy: 0.9928\n",
      "Epoch 30/100\n",
      "69/69 [==============================] - 0s 666us/step - loss: 0.0398 - accuracy: 0.9928\n",
      "Epoch 31/100\n",
      "69/69 [==============================] - 0s 666us/step - loss: 0.0351 - accuracy: 0.9928\n",
      "Epoch 32/100\n",
      "69/69 [==============================] - 0s 667us/step - loss: 0.0311 - accuracy: 0.9928\n",
      "Epoch 33/100\n",
      "69/69 [==============================] - 0s 681us/step - loss: 0.0275 - accuracy: 0.9928\n",
      "Epoch 34/100\n",
      "69/69 [==============================] - 0s 695us/step - loss: 0.0242 - accuracy: 0.9933\n",
      "Epoch 35/100\n",
      " 1/69 [..............................] - ETA: 0s - loss: 0.0227 - accuracy: 1.0000\n",
      "Reached Accuracy = 1\n",
      "Hence training stopped!\n",
      "\n",
      "69/69 [==============================] - 0s 695us/step - loss: 0.0210 - accuracy: 1.0000\n"
     ]
    }
   ],
   "source": [
    "temp1 = getting_dummies(cct, \"Medicine_Type\", freq = 0, drp_flg = False)\n",
    "temp = auto_emb(temp1, emb_dim=3, colname=\"Medicine_Type\")\n",
    "cct = pd.concat([cct, temp], axis = 1)"
   ]
  },
  {
   "cell_type": "markdown",
   "id": "breeding-decade",
   "metadata": {},
   "source": [
    "- Make dummies for \"Active_Since\" without dropping anything\n",
    "- Auto-encode the dummies to reduce their dimensions from 9 to 3 wihtout any loss of information\n",
    "- This is achieved by training the auto-encoder model to get accuracy = 1\n",
    "\n",
    "- Though dummies were made for \"Active_Since\" for exploratory purposes, its best to use it as numerical variable"
   ]
  },
  {
   "cell_type": "code",
   "execution_count": 12,
   "id": "compliant-rendering",
   "metadata": {
    "scrolled": true
   },
   "outputs": [
    {
     "name": "stdout",
     "output_type": "stream",
     "text": [
      "\n",
      "\n",
      "--------------------\n",
      "--------------------\n",
      "Dummies for Active_Since\n",
      "no of new columns from Active_Since is 9\n",
      "[1983, 2005, 1985, 1995, 2002, 1997, 2000, 2007, 1996]\n",
      "Epoch 1/100\n",
      "69/69 [==============================] - 0s 719us/step - loss: 2.1770 - accuracy: 0.1097\n",
      "Epoch 2/100\n",
      "69/69 [==============================] - 0s 739us/step - loss: 2.0729 - accuracy: 0.3526\n",
      "Epoch 3/100\n",
      "69/69 [==============================] - 0s 739us/step - loss: 1.9252 - accuracy: 0.5751\n",
      "Epoch 4/100\n",
      "69/69 [==============================] - 0s 724us/step - loss: 1.7294 - accuracy: 0.5924\n",
      "Epoch 5/100\n",
      "69/69 [==============================] - 0s 739us/step - loss: 1.5200 - accuracy: 0.5003\n",
      "Epoch 6/100\n",
      "69/69 [==============================] - 0s 724us/step - loss: 1.3258 - accuracy: 0.6055\n",
      "Epoch 7/100\n",
      "69/69 [==============================] - 0s 681us/step - loss: 1.1558 - accuracy: 0.6505\n",
      "Epoch 8/100\n",
      "69/69 [==============================] - 0s 724us/step - loss: 1.0094 - accuracy: 0.7169\n",
      "Epoch 9/100\n",
      "69/69 [==============================] - 0s 753us/step - loss: 0.8843 - accuracy: 0.7169\n",
      "Epoch 10/100\n",
      "69/69 [==============================] - 0s 753us/step - loss: 0.7753 - accuracy: 0.7169\n",
      "Epoch 11/100\n",
      "69/69 [==============================] - 0s 724us/step - loss: 0.6773 - accuracy: 0.8089\n",
      "Epoch 12/100\n",
      "69/69 [==============================] - 0s 759us/step - loss: 0.5872 - accuracy: 0.8885\n",
      "Epoch 13/100\n",
      " 1/69 [..............................] - ETA: 0s - loss: 0.5015 - accuracy: 1.0000\n",
      "Reached Accuracy = 1\n",
      "Hence training stopped!\n",
      "\n",
      "69/69 [==============================] - 0s 720us/step - loss: 0.5036 - accuracy: 1.0000\n"
     ]
    }
   ],
   "source": [
    "temp1 = getting_dummies(cct, \"Active_Since\", freq = 0, drp_flg = False)\n",
    "temp = auto_emb(temp1, emb_dim=3, colname=\"Active_Since\")\n",
    "cct = pd.concat([cct, temp], axis = 1)"
   ]
  },
  {
   "cell_type": "markdown",
   "id": "coastal-notification",
   "metadata": {},
   "source": [
    "- Make dummies for \"Active_Since\" without dropping anything\n",
    "- Auto-encode the dummies to reduce their dimensions from 10 to 3 wihtout any loss of information\n",
    "- This is achieved by training the auto-encoder model to get accuracy = 1\n",
    "\n",
    "* 'DistArea_ID' is highly correlated with 'Area_Type', 'Area_City_Type', 'Area_dist_level'\n",
    "* The dummies from these columns are kept for modelling process to see which gives the best results\n",
    "* Theoritically 'DistArea_ID' should be enough to represent the other three columns"
   ]
  },
  {
   "cell_type": "code",
   "execution_count": 13,
   "id": "nasty-lindsay",
   "metadata": {},
   "outputs": [
    {
     "name": "stdout",
     "output_type": "stream",
     "text": [
      "\n",
      "\n",
      "--------------------\n",
      "--------------------\n",
      "Dummies for DistArea_ID\n",
      "no of new columns from DistArea_ID is 10\n",
      "['Area017', 'Area013', 'Area046', 'Area035', 'Area049', 'Area045', 'Area027', 'Area018', 'Area010', 'Area019']\n",
      "Epoch 1/100\n",
      "69/69 [==============================] - 0s 742us/step - loss: 2.2190 - accuracy: 0.1079\n",
      "Epoch 2/100\n",
      "69/69 [==============================] - 0s 739us/step - loss: 2.1160 - accuracy: 0.1079\n",
      "Epoch 3/100\n",
      "69/69 [==============================] - 0s 724us/step - loss: 1.9733 - accuracy: 0.3259\n",
      "Epoch 4/100\n",
      "69/69 [==============================] - 0s 746us/step - loss: 1.7959 - accuracy: 0.3869\n",
      "Epoch 5/100\n",
      "69/69 [==============================] - 0s 743us/step - loss: 1.6044 - accuracy: 0.5497\n",
      "Epoch 6/100\n",
      "69/69 [==============================] - 0s 710us/step - loss: 1.4257 - accuracy: 0.6572\n",
      "Epoch 7/100\n",
      "69/69 [==============================] - 0s 739us/step - loss: 1.2695 - accuracy: 0.6572\n",
      "Epoch 8/100\n",
      "69/69 [==============================] - 0s 710us/step - loss: 1.1345 - accuracy: 0.7297\n",
      "Epoch 9/100\n",
      "69/69 [==============================] - 0s 724us/step - loss: 1.0126 - accuracy: 0.7650\n",
      "Epoch 10/100\n",
      "69/69 [==============================] - 0s 695us/step - loss: 0.8991 - accuracy: 0.7650\n",
      "Epoch 11/100\n",
      "69/69 [==============================] - 0s 753us/step - loss: 0.7970 - accuracy: 0.7650\n",
      "Epoch 12/100\n",
      "69/69 [==============================] - 0s 695us/step - loss: 0.7096 - accuracy: 0.7650\n",
      "Epoch 13/100\n",
      "69/69 [==============================] - 0s 681us/step - loss: 0.6368 - accuracy: 0.7650\n",
      "Epoch 14/100\n",
      "69/69 [==============================] - 0s 710us/step - loss: 0.5762 - accuracy: 0.7650\n",
      "Epoch 15/100\n",
      "69/69 [==============================] - 0s 724us/step - loss: 0.5236 - accuracy: 0.7650\n",
      "Epoch 16/100\n",
      "69/69 [==============================] - 0s 710us/step - loss: 0.4766 - accuracy: 0.8674\n",
      "Epoch 17/100\n",
      "69/69 [==============================] - 0s 710us/step - loss: 0.4334 - accuracy: 0.8720\n",
      "Epoch 18/100\n",
      "69/69 [==============================] - 0s 724us/step - loss: 0.3917 - accuracy: 0.8720\n",
      "Epoch 19/100\n",
      "69/69 [==============================] - 0s 720us/step - loss: 0.3471 - accuracy: 0.9252\n",
      "Epoch 20/100\n",
      "69/69 [==============================] - 0s 752us/step - loss: 0.2985 - accuracy: 0.9918\n",
      "Epoch 21/100\n",
      "69/69 [==============================] - ETA: 0s - loss: 0.2508 - accuracy: 1.0000\n",
      "Reached Accuracy = 1\n",
      "Hence training stopped!\n",
      "\n",
      "69/69 [==============================] - 0s 753us/step - loss: 0.2508 - accuracy: 1.0000\n"
     ]
    }
   ],
   "source": [
    "temp1 = getting_dummies(cct, \"DistArea_ID\", freq = 0, drp_flg = False)\n",
    "temp = auto_emb(temp1, emb_dim=3, colname=\"DistArea_ID\")\n",
    "cct = pd.concat([cct, temp], axis = 1)"
   ]
  },
  {
   "cell_type": "markdown",
   "id": "electronic-indication",
   "metadata": {},
   "source": [
    "# Imputing Missing Values"
   ]
  },
  {
   "cell_type": "markdown",
   "id": "guided-cycle",
   "metadata": {},
   "source": [
    "- Counterfeit_Weight's missing values can be classified as MAR (Missing At Random)\n",
    "- Medicine_ID is correlated to Counterfeit_Weight\n",
    "- Hence the mode of Counterfeit_Weight for each Medicine_ID is used to fill the missing values of Counterfeit_Weight\n",
    "- This leavs us with only 11 missing values in Counterfeit_Weight which is later imputed with median"
   ]
  },
  {
   "cell_type": "code",
   "execution_count": 14,
   "id": "identified-tamil",
   "metadata": {},
   "outputs": [],
   "source": [
    "counter_groupby = cct[[\"Medicine_ID\",'Counterfeit_Weight']].groupby([\"Medicine_ID\", 'Counterfeit_Weight']).agg(lambda x:x.value_counts().index[0])\n",
    "for i in counter_groupby:\n",
    "    cct.loc[((cct[\"Medicine_ID\"] == i[0]) & (cct[\"Counterfeit_Weight\"].isnull() == True)) ,['Counterfeit_Weight']] = i[1]"
   ]
  },
  {
   "cell_type": "markdown",
   "id": "administrative-interpretation",
   "metadata": {},
   "source": [
    "# Drop\n",
    "- Drop the certainly informationless columns"
   ]
  },
  {
   "cell_type": "code",
   "execution_count": 15,
   "id": "difficult-tobago",
   "metadata": {},
   "outputs": [],
   "source": [
    "cct.drop([\"Medicine_ID\", \"Medicine_Type\", \"Area_Type\", \"Area_City_Type\", \"Area_dist_level\", \"DistArea_ID\"], axis = 1, inplace = True)"
   ]
  },
  {
   "cell_type": "markdown",
   "id": "adult-sense",
   "metadata": {},
   "source": [
    "# Rewrite Clean Data\n",
    "- write this clean data out again to use it for different modelling purposes"
   ]
  },
  {
   "cell_type": "code",
   "execution_count": 16,
   "id": "passing-mexican",
   "metadata": {},
   "outputs": [],
   "source": [
    "cct.to_csv(r\"data/cct_edvance_cleanp3.csv\", index = False)"
   ]
  },
  {
   "cell_type": "markdown",
   "id": "enormous-library",
   "metadata": {},
   "source": [
    "# Note\n",
    "- This script deliberately omits all the the data testing codes and graphs\n",
    "- The code representation of data exploration would make the script lenthy and messy\n",
    "- Anymore exploratory findings are Welcome!"
   ]
  }
 ],
 "metadata": {
  "kernelspec": {
   "display_name": "Python 3",
   "language": "python",
   "name": "python3"
  },
  "language_info": {
   "codemirror_mode": {
    "name": "ipython",
    "version": 3
   },
   "file_extension": ".py",
   "mimetype": "text/x-python",
   "name": "python",
   "nbconvert_exporter": "python",
   "pygments_lexer": "ipython3",
   "version": "3.8.5"
  }
 },
 "nbformat": 4,
 "nbformat_minor": 5
}
